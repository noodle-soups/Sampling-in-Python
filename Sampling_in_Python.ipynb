{
 "cells": [
  {
   "cell_type": "markdown",
   "metadata": {},
   "source": [
    "# Sampling in Python"
   ]
  },
  {
   "cell_type": "markdown",
   "metadata": {},
   "source": [
    "<br>\n",
    "\n",
    "<br>\n",
    "\n",
    "---\n",
    "\n",
    "### Intro"
   ]
  },
  {
   "cell_type": "code",
   "execution_count": 19,
   "metadata": {},
   "outputs": [],
   "source": [
    "import pandas as pd\n",
    "import numpy as np"
   ]
  },
  {
   "cell_type": "code",
   "execution_count": 15,
   "metadata": {},
   "outputs": [
    {
     "name": "stdout",
     "output_type": "stream",
     "text": [
      "(41656, 20)\n"
     ]
    },
    {
     "data": {
      "text/html": [
       "<div>\n",
       "<style scoped>\n",
       "    .dataframe tbody tr th:only-of-type {\n",
       "        vertical-align: middle;\n",
       "    }\n",
       "\n",
       "    .dataframe tbody tr th {\n",
       "        vertical-align: top;\n",
       "    }\n",
       "\n",
       "    .dataframe thead th {\n",
       "        text-align: right;\n",
       "    }\n",
       "</style>\n",
       "<table border=\"1\" class=\"dataframe\">\n",
       "  <thead>\n",
       "    <tr style=\"text-align: right;\">\n",
       "      <th></th>\n",
       "      <th>acousticness</th>\n",
       "      <th>artists</th>\n",
       "      <th>danceability</th>\n",
       "      <th>duration_ms</th>\n",
       "      <th>duration_minutes</th>\n",
       "      <th>energy</th>\n",
       "      <th>explicit</th>\n",
       "      <th>id</th>\n",
       "      <th>instrumentalness</th>\n",
       "      <th>key</th>\n",
       "      <th>liveness</th>\n",
       "      <th>loudness</th>\n",
       "      <th>mode</th>\n",
       "      <th>name</th>\n",
       "      <th>popularity</th>\n",
       "      <th>release_date</th>\n",
       "      <th>speechiness</th>\n",
       "      <th>tempo</th>\n",
       "      <th>valence</th>\n",
       "      <th>year</th>\n",
       "    </tr>\n",
       "  </thead>\n",
       "  <tbody>\n",
       "    <tr>\n",
       "      <th>0</th>\n",
       "      <td>0.97200</td>\n",
       "      <td>['David Bauer']</td>\n",
       "      <td>0.567</td>\n",
       "      <td>313293.0</td>\n",
       "      <td>5.221550</td>\n",
       "      <td>0.227</td>\n",
       "      <td>0.0</td>\n",
       "      <td>0w0D8H1ubRerCXHWYJkinO</td>\n",
       "      <td>0.601000</td>\n",
       "      <td>10.0</td>\n",
       "      <td>0.110</td>\n",
       "      <td>-13.441</td>\n",
       "      <td>1.0</td>\n",
       "      <td>Shout to the Lord</td>\n",
       "      <td>47.0</td>\n",
       "      <td>2000</td>\n",
       "      <td>0.0290</td>\n",
       "      <td>136.123</td>\n",
       "      <td>0.0396</td>\n",
       "      <td>2000.0</td>\n",
       "    </tr>\n",
       "    <tr>\n",
       "      <th>1</th>\n",
       "      <td>0.32100</td>\n",
       "      <td>['Etta James']</td>\n",
       "      <td>0.821</td>\n",
       "      <td>360240.0</td>\n",
       "      <td>6.004000</td>\n",
       "      <td>0.418</td>\n",
       "      <td>0.0</td>\n",
       "      <td>4JVeqfE2tpi7Pv63LJZtPh</td>\n",
       "      <td>0.000372</td>\n",
       "      <td>9.0</td>\n",
       "      <td>0.222</td>\n",
       "      <td>-9.841</td>\n",
       "      <td>0.0</td>\n",
       "      <td>Miss You</td>\n",
       "      <td>51.0</td>\n",
       "      <td>2000-12-12</td>\n",
       "      <td>0.0407</td>\n",
       "      <td>117.382</td>\n",
       "      <td>0.8030</td>\n",
       "      <td>2000.0</td>\n",
       "    </tr>\n",
       "    <tr>\n",
       "      <th>2</th>\n",
       "      <td>0.00659</td>\n",
       "      <td>['Quasimoto']</td>\n",
       "      <td>0.706</td>\n",
       "      <td>202507.0</td>\n",
       "      <td>3.375117</td>\n",
       "      <td>0.602</td>\n",
       "      <td>1.0</td>\n",
       "      <td>5pxtdhLAi0RTh1gNqhGMNA</td>\n",
       "      <td>0.000138</td>\n",
       "      <td>11.0</td>\n",
       "      <td>0.400</td>\n",
       "      <td>-8.306</td>\n",
       "      <td>0.0</td>\n",
       "      <td>Real Eyes</td>\n",
       "      <td>44.0</td>\n",
       "      <td>2000-06-13</td>\n",
       "      <td>0.3420</td>\n",
       "      <td>89.692</td>\n",
       "      <td>0.4790</td>\n",
       "      <td>2000.0</td>\n",
       "    </tr>\n",
       "    <tr>\n",
       "      <th>3</th>\n",
       "      <td>0.00390</td>\n",
       "      <td>['Millencolin']</td>\n",
       "      <td>0.368</td>\n",
       "      <td>173360.0</td>\n",
       "      <td>2.889333</td>\n",
       "      <td>0.977</td>\n",
       "      <td>0.0</td>\n",
       "      <td>3jRsoe4Vkxa4BMYqGHX8L0</td>\n",
       "      <td>0.000000</td>\n",
       "      <td>11.0</td>\n",
       "      <td>0.350</td>\n",
       "      <td>-2.757</td>\n",
       "      <td>0.0</td>\n",
       "      <td>Penguins &amp; Polarbears</td>\n",
       "      <td>52.0</td>\n",
       "      <td>2000-02-22</td>\n",
       "      <td>0.1270</td>\n",
       "      <td>165.889</td>\n",
       "      <td>0.5480</td>\n",
       "      <td>2000.0</td>\n",
       "    </tr>\n",
       "    <tr>\n",
       "      <th>4</th>\n",
       "      <td>0.12200</td>\n",
       "      <td>['Steve Chou']</td>\n",
       "      <td>0.501</td>\n",
       "      <td>344200.0</td>\n",
       "      <td>5.736667</td>\n",
       "      <td>0.511</td>\n",
       "      <td>0.0</td>\n",
       "      <td>4mronxcllhfyhBRqyZi8kU</td>\n",
       "      <td>0.000000</td>\n",
       "      <td>7.0</td>\n",
       "      <td>0.279</td>\n",
       "      <td>-9.836</td>\n",
       "      <td>0.0</td>\n",
       "      <td>黃昏</td>\n",
       "      <td>53.0</td>\n",
       "      <td>2000-12-25</td>\n",
       "      <td>0.0291</td>\n",
       "      <td>78.045</td>\n",
       "      <td>0.1130</td>\n",
       "      <td>2000.0</td>\n",
       "    </tr>\n",
       "  </tbody>\n",
       "</table>\n",
       "</div>"
      ],
      "text/plain": [
       "   acousticness          artists  danceability  duration_ms  duration_minutes  \\\n",
       "0       0.97200  ['David Bauer']         0.567     313293.0          5.221550   \n",
       "1       0.32100   ['Etta James']         0.821     360240.0          6.004000   \n",
       "2       0.00659    ['Quasimoto']         0.706     202507.0          3.375117   \n",
       "3       0.00390  ['Millencolin']         0.368     173360.0          2.889333   \n",
       "4       0.12200   ['Steve Chou']         0.501     344200.0          5.736667   \n",
       "\n",
       "   energy  explicit                      id  instrumentalness   key  liveness  \\\n",
       "0   0.227       0.0  0w0D8H1ubRerCXHWYJkinO          0.601000  10.0     0.110   \n",
       "1   0.418       0.0  4JVeqfE2tpi7Pv63LJZtPh          0.000372   9.0     0.222   \n",
       "2   0.602       1.0  5pxtdhLAi0RTh1gNqhGMNA          0.000138  11.0     0.400   \n",
       "3   0.977       0.0  3jRsoe4Vkxa4BMYqGHX8L0          0.000000  11.0     0.350   \n",
       "4   0.511       0.0  4mronxcllhfyhBRqyZi8kU          0.000000   7.0     0.279   \n",
       "\n",
       "   loudness  mode                   name  popularity release_date  \\\n",
       "0   -13.441   1.0      Shout to the Lord        47.0         2000   \n",
       "1    -9.841   0.0               Miss You        51.0   2000-12-12   \n",
       "2    -8.306   0.0              Real Eyes        44.0   2000-06-13   \n",
       "3    -2.757   0.0  Penguins & Polarbears        52.0   2000-02-22   \n",
       "4    -9.836   0.0                     黃昏        53.0   2000-12-25   \n",
       "\n",
       "   speechiness    tempo  valence    year  \n",
       "0       0.0290  136.123   0.0396  2000.0  \n",
       "1       0.0407  117.382   0.8030  2000.0  \n",
       "2       0.3420   89.692   0.4790  2000.0  \n",
       "3       0.1270  165.889   0.5480  2000.0  \n",
       "4       0.0291   78.045   0.1130  2000.0  "
      ]
     },
     "execution_count": 15,
     "metadata": {},
     "output_type": "execute_result"
    }
   ],
   "source": [
    "file = 'spotify_2000_2020.feather'\n",
    "df = pd.read_feather(file)\n",
    "\n",
    "print(df.shape)\n",
    "df.head()"
   ]
  },
  {
   "cell_type": "markdown",
   "metadata": {},
   "source": [
    "<br>\n",
    "\n",
    "<br>\n",
    "\n",
    "---\n",
    "\n",
    "### Sampling Rows\n",
    "\n",
    "* <b><code>.sample(n)</code> - </b> Sample using pandas sample function"
   ]
  },
  {
   "cell_type": "code",
   "execution_count": 17,
   "metadata": {},
   "outputs": [
    {
     "data": {
      "text/html": [
       "<div>\n",
       "<style scoped>\n",
       "    .dataframe tbody tr th:only-of-type {\n",
       "        vertical-align: middle;\n",
       "    }\n",
       "\n",
       "    .dataframe tbody tr th {\n",
       "        vertical-align: top;\n",
       "    }\n",
       "\n",
       "    .dataframe thead th {\n",
       "        text-align: right;\n",
       "    }\n",
       "</style>\n",
       "<table border=\"1\" class=\"dataframe\">\n",
       "  <thead>\n",
       "    <tr style=\"text-align: right;\">\n",
       "      <th></th>\n",
       "      <th>acousticness</th>\n",
       "      <th>artists</th>\n",
       "      <th>danceability</th>\n",
       "      <th>duration_ms</th>\n",
       "      <th>duration_minutes</th>\n",
       "      <th>energy</th>\n",
       "      <th>explicit</th>\n",
       "      <th>id</th>\n",
       "      <th>instrumentalness</th>\n",
       "      <th>key</th>\n",
       "      <th>liveness</th>\n",
       "      <th>loudness</th>\n",
       "      <th>mode</th>\n",
       "      <th>name</th>\n",
       "      <th>popularity</th>\n",
       "      <th>release_date</th>\n",
       "      <th>speechiness</th>\n",
       "      <th>tempo</th>\n",
       "      <th>valence</th>\n",
       "      <th>year</th>\n",
       "    </tr>\n",
       "  </thead>\n",
       "  <tbody>\n",
       "    <tr>\n",
       "      <th>16228</th>\n",
       "      <td>0.06440</td>\n",
       "      <td>['Los Inquietos Del Norte']</td>\n",
       "      <td>0.551</td>\n",
       "      <td>142280.0</td>\n",
       "      <td>2.371333</td>\n",
       "      <td>0.891</td>\n",
       "      <td>0.0</td>\n",
       "      <td>77Iga1bBAcbCJgM5xzWvJ7</td>\n",
       "      <td>0.000000</td>\n",
       "      <td>2.0</td>\n",
       "      <td>0.2500</td>\n",
       "      <td>-4.040</td>\n",
       "      <td>1.0</td>\n",
       "      <td>De Que Se Puede Se Puede</td>\n",
       "      <td>54.0</td>\n",
       "      <td>2015-08-27</td>\n",
       "      <td>0.1930</td>\n",
       "      <td>97.471</td>\n",
       "      <td>0.680</td>\n",
       "      <td>2015.0</td>\n",
       "    </tr>\n",
       "    <tr>\n",
       "      <th>8127</th>\n",
       "      <td>0.00754</td>\n",
       "      <td>['Comethazine', 'Ugly God']</td>\n",
       "      <td>0.944</td>\n",
       "      <td>87313.0</td>\n",
       "      <td>1.455217</td>\n",
       "      <td>0.752</td>\n",
       "      <td>1.0</td>\n",
       "      <td>63KKvdfkStMHQM4Ufzx2KB</td>\n",
       "      <td>0.010700</td>\n",
       "      <td>11.0</td>\n",
       "      <td>0.1410</td>\n",
       "      <td>-2.625</td>\n",
       "      <td>0.0</td>\n",
       "      <td>Let It Eat (feat. Ugly God)</td>\n",
       "      <td>61.0</td>\n",
       "      <td>2018-08-24</td>\n",
       "      <td>0.1350</td>\n",
       "      <td>134.039</td>\n",
       "      <td>0.489</td>\n",
       "      <td>2018.0</td>\n",
       "    </tr>\n",
       "    <tr>\n",
       "      <th>3529</th>\n",
       "      <td>0.00524</td>\n",
       "      <td>['Set It Off']</td>\n",
       "      <td>0.678</td>\n",
       "      <td>242347.0</td>\n",
       "      <td>4.039117</td>\n",
       "      <td>0.826</td>\n",
       "      <td>0.0</td>\n",
       "      <td>7i9q0VPbENCoYnJUsJhX9d</td>\n",
       "      <td>0.000000</td>\n",
       "      <td>0.0</td>\n",
       "      <td>0.0951</td>\n",
       "      <td>-4.742</td>\n",
       "      <td>0.0</td>\n",
       "      <td>Duality</td>\n",
       "      <td>52.0</td>\n",
       "      <td>2014-10-14</td>\n",
       "      <td>0.0591</td>\n",
       "      <td>139.989</td>\n",
       "      <td>0.706</td>\n",
       "      <td>2014.0</td>\n",
       "    </tr>\n",
       "    <tr>\n",
       "      <th>26540</th>\n",
       "      <td>0.34300</td>\n",
       "      <td>['Sam Smith']</td>\n",
       "      <td>0.656</td>\n",
       "      <td>167066.0</td>\n",
       "      <td>2.784433</td>\n",
       "      <td>0.627</td>\n",
       "      <td>0.0</td>\n",
       "      <td>2TeLIzFBe3hxkPR5FIQZut</td>\n",
       "      <td>0.000022</td>\n",
       "      <td>7.0</td>\n",
       "      <td>0.1240</td>\n",
       "      <td>-6.627</td>\n",
       "      <td>0.0</td>\n",
       "      <td>Like I Can</td>\n",
       "      <td>69.0</td>\n",
       "      <td>2014-05-26</td>\n",
       "      <td>0.0379</td>\n",
       "      <td>99.933</td>\n",
       "      <td>0.481</td>\n",
       "      <td>2014.0</td>\n",
       "    </tr>\n",
       "    <tr>\n",
       "      <th>25870</th>\n",
       "      <td>0.14400</td>\n",
       "      <td>['Lil Wayne']</td>\n",
       "      <td>0.493</td>\n",
       "      <td>309000.0</td>\n",
       "      <td>5.150000</td>\n",
       "      <td>0.527</td>\n",
       "      <td>1.0</td>\n",
       "      <td>0bdabO15YOj0iZPg2OujAw</td>\n",
       "      <td>0.000004</td>\n",
       "      <td>8.0</td>\n",
       "      <td>0.3800</td>\n",
       "      <td>-8.128</td>\n",
       "      <td>1.0</td>\n",
       "      <td>Let The Beat Build</td>\n",
       "      <td>57.0</td>\n",
       "      <td>2008-06-10</td>\n",
       "      <td>0.2470</td>\n",
       "      <td>154.053</td>\n",
       "      <td>0.886</td>\n",
       "      <td>2008.0</td>\n",
       "    </tr>\n",
       "  </tbody>\n",
       "</table>\n",
       "</div>"
      ],
      "text/plain": [
       "       acousticness                      artists  danceability  duration_ms  \\\n",
       "16228       0.06440  ['Los Inquietos Del Norte']         0.551     142280.0   \n",
       "8127        0.00754  ['Comethazine', 'Ugly God']         0.944      87313.0   \n",
       "3529        0.00524               ['Set It Off']         0.678     242347.0   \n",
       "26540       0.34300                ['Sam Smith']         0.656     167066.0   \n",
       "25870       0.14400                ['Lil Wayne']         0.493     309000.0   \n",
       "\n",
       "       duration_minutes  energy  explicit                      id  \\\n",
       "16228          2.371333   0.891       0.0  77Iga1bBAcbCJgM5xzWvJ7   \n",
       "8127           1.455217   0.752       1.0  63KKvdfkStMHQM4Ufzx2KB   \n",
       "3529           4.039117   0.826       0.0  7i9q0VPbENCoYnJUsJhX9d   \n",
       "26540          2.784433   0.627       0.0  2TeLIzFBe3hxkPR5FIQZut   \n",
       "25870          5.150000   0.527       1.0  0bdabO15YOj0iZPg2OujAw   \n",
       "\n",
       "       instrumentalness   key  liveness  loudness  mode  \\\n",
       "16228          0.000000   2.0    0.2500    -4.040   1.0   \n",
       "8127           0.010700  11.0    0.1410    -2.625   0.0   \n",
       "3529           0.000000   0.0    0.0951    -4.742   0.0   \n",
       "26540          0.000022   7.0    0.1240    -6.627   0.0   \n",
       "25870          0.000004   8.0    0.3800    -8.128   1.0   \n",
       "\n",
       "                              name  popularity release_date  speechiness  \\\n",
       "16228     De Que Se Puede Se Puede        54.0   2015-08-27       0.1930   \n",
       "8127   Let It Eat (feat. Ugly God)        61.0   2018-08-24       0.1350   \n",
       "3529                       Duality        52.0   2014-10-14       0.0591   \n",
       "26540                   Like I Can        69.0   2014-05-26       0.0379   \n",
       "25870           Let The Beat Build        57.0   2008-06-10       0.2470   \n",
       "\n",
       "         tempo  valence    year  \n",
       "16228   97.471    0.680  2015.0  \n",
       "8127   134.039    0.489  2018.0  \n",
       "3529   139.989    0.706  2014.0  \n",
       "26540   99.933    0.481  2014.0  \n",
       "25870  154.053    0.886  2008.0  "
      ]
     },
     "execution_count": 17,
     "metadata": {},
     "output_type": "execute_result"
    }
   ],
   "source": [
    "df_samp = df.sample(n=1000)\n",
    "df_samp.head()"
   ]
  },
  {
   "cell_type": "markdown",
   "metadata": {},
   "source": [
    "<br>\n",
    "\n",
    "<br>\n",
    "\n",
    "---\n",
    "\n",
    "### Population Parameter vs Point Estimate\n",
    "\n",
    "* <b>Population Parameter - </b>Calculation made on whole dataset\n",
    "* <b>Point Estimate - </b>Calculation based on sample dataset\n",
    "* The mean song duration <code>duration_minutes</code> in the sample is <b>similar, but not identical</b> to the mean song duration in the whole population."
   ]
  },
  {
   "cell_type": "code",
   "execution_count": 32,
   "metadata": {},
   "outputs": [
    {
     "name": "stdout",
     "output_type": "stream",
     "text": [
      "Population Parameter = 3.8521519140900073\n",
      "Point Estimate = 3.9051504999999995\n"
     ]
    }
   ],
   "source": [
    "duration = 'duration_minutes'\n",
    "\n",
    "population_parameter = np.mean(df[duration])\n",
    "point_estimate = np.mean(df_samp[duration])\n",
    "\n",
    "print('Population Parameter = ' + str(population_parameter))\n",
    "print('Point Estimate = ' + str(point_estimate))"
   ]
  },
  {
   "cell_type": "markdown",
   "metadata": {},
   "source": [
    "<br>\n",
    "\n",
    "<br>\n",
    "\n",
    "---\n",
    "\n",
    "### Histograms & Distrubtions\n",
    "\n",
    "* <b>Histogram - </b>Shows distribution of data\n",
    "* <b>Generalizabile Results - </b>Properly sampled data can produce generalizable results where the point estimates & distributions are closely aligned to the population"
   ]
  },
  {
   "cell_type": "code",
   "execution_count": 28,
   "metadata": {},
   "outputs": [],
   "source": [
    "import matplotlib.pyplot as plt "
   ]
  },
  {
   "cell_type": "code",
   "execution_count": 33,
   "metadata": {},
   "outputs": [
    {
     "data": {
      "image/png": "[encoded data removed]",
      "text/plain": [
       "<Figure size 640x480 with 1 Axes>"
      ]
     },
     "metadata": {},
     "output_type": "display_data"
    }
   ],
   "source": [
    "df[duration].hist(bins=np.arange(0, 15.5, 0.5))\n",
    "plt.show()"
   ]
  },
  {
   "cell_type": "code",
   "execution_count": 34,
   "metadata": {},
   "outputs": [
    {
     "data": {
      "image/png": "[encoded data removed]",
      "text/plain": [
       "<Figure size 640x480 with 1 Axes>"
      ]
     },
     "metadata": {},
     "output_type": "display_data"
    }
   ],
   "source": [
    "df_samp[duration].hist(bins=np.arange(0, 15.5, 0.5))\n",
    "plt.show()"
   ]
  },
  {
   "cell_type": "markdown",
   "metadata": {},
   "source": [
    "<br>\n",
    "\n",
    "<br>\n",
    "\n",
    "---\n",
    "\n",
    "### Random Number Generation\n",
    "\n",
    "* <b>Types - </b>Different distributions available (Normal, Uniform, etc)\n",
    "* <b>Random - </b>Prepend any sampling/randomness with <code>.random</code>\n",
    "* <b>Seeds - </b>Use <code>np.random.seed()</code> to seed samples to maintain reproducable results"
   ]
  },
  {
   "cell_type": "code",
   "execution_count": 59,
   "metadata": {},
   "outputs": [
    {
     "name": "stdout",
     "output_type": "stream",
     "text": [
      "[-5.43223187 -4.48032563 -1.53149687 ... -2.62620944  5.99136359\n",
      " -6.66168477]\n"
     ]
    },
    {
     "data": {
      "image/png": "[encoded data removed]",
      "text/plain": [
       "<Figure size 640x480 with 1 Axes>"
      ]
     },
     "metadata": {},
     "output_type": "display_data"
    }
   ],
   "source": [
    "np.random.seed(1001)\n",
    "normals = np.random.normal(loc=0, scale=5, size=10000)\n",
    "\n",
    "plt.hist(normals, bins=np.arange(-20, 21, 1))\n",
    "\n",
    "print(normals)\n",
    "plt.show()"
   ]
  },
  {
   "cell_type": "code",
   "execution_count": 60,
   "metadata": {},
   "outputs": [
    {
     "name": "stdout",
     "output_type": "stream",
     "text": [
      "[-1.9376782  -2.34936434 -3.03939937 ... -1.04180829  0.71456544\n",
      " -4.6015477 ]\n"
     ]
    },
    {
     "data": {
      "image/png": "[encoded data removed]",
      "text/plain": [
       "<Figure size 640x480 with 1 Axes>"
      ]
     },
     "metadata": {},
     "output_type": "display_data"
    }
   ],
   "source": [
    "np.random.seed(1001)\n",
    "uniforms = np.random.uniform(low=-5, high=5, size=10000)\n",
    "\n",
    "plt.hist(uniforms, bins=np.arange(-5, 5.1, 0.1))\n",
    "\n",
    "print(uniforms)\n",
    "plt.show()"
   ]
  },
  {
   "cell_type": "code",
   "execution_count": null,
   "metadata": {},
   "outputs": [],
   "source": []
  }
 ],
 "metadata": {
  "kernelspec": {
   "display_name": "base",
   "language": "python",
   "name": "python3"
  },
  "language_info": {
   "codemirror_mode": {
    "name": "ipython",
    "version": 3
   },
   "file_extension": ".py",
   "mimetype": "text/x-python",
   "name": "python",
   "nbconvert_exporter": "python",
   "pygments_lexer": "ipython3",
   "version": "3.11.5"
  }
 },
 "nbformat": 4,
 "nbformat_minor": 2
}
